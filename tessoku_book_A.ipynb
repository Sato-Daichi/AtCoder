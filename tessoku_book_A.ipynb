{
 "cells": [
  {
   "attachments": {},
   "cell_type": "markdown",
   "metadata": {},
   "source": [
    "## __鉄則本 A問題__\n",
    "\n",
    "- リンク：https://atcoder.jp/contests/tessoku-book/tasks\n",
    "\n",
    "- Github：https://github.com/E869120/kyopro-tessoku"
   ]
  },
  {
   "cell_type": "code",
   "execution_count": null,
   "metadata": {},
   "outputs": [],
   "source": [
    "# A01 - The First Problem\n",
    "\n",
    "N = int(input())\n",
    "print(N**2)"
   ]
  },
  {
   "cell_type": "code",
   "execution_count": null,
   "metadata": {},
   "outputs": [],
   "source": [
    "# A02 - Linear Search\n",
    "\n",
    "N, X = map(int, input().split())\n",
    "A = list(map(int, input().split()))\n",
    "\n",
    "if X in A:\n",
    "    print(\"Yes\")\n",
    "else:\n",
    "    print(\"No\")"
   ]
  },
  {
   "cell_type": "code",
   "execution_count": null,
   "metadata": {},
   "outputs": [],
   "source": [
    "# A03 - Two Cards\n",
    "\n",
    "N, K = map(int, input().split())\n",
    "P = list(map(int, input().split()))\n",
    "Q = list(map(int, input().split()))\n",
    "\n",
    "flag = False\n",
    "for p in P:\n",
    "    for q in Q:\n",
    "        if p + q == K:\n",
    "            flag = True\n",
    "if flag:\n",
    "    print(\"Yes\")\n",
    "else:\n",
    "    print(\"No\")"
   ]
  },
  {
   "cell_type": "code",
   "execution_count": null,
   "metadata": {},
   "outputs": [],
   "source": [
    "# A04 - Binary Representation 1\n",
    "\n",
    "N = int(input())\n",
    "print(format(N, \"b\").zfill(10))"
   ]
  },
  {
   "cell_type": "code",
   "execution_count": null,
   "metadata": {},
   "outputs": [],
   "source": [
    "# A05 - Three Cards\n",
    "\n",
    "N, K = map(int, input().split())\n",
    "\n",
    "counter = 0\n",
    "for i in range(1, N+1):\n",
    "    for j in range(1, N+1):\n",
    "        if 1 <= K - i - j <= N:\n",
    "            counter += 1\n",
    "print(counter)"
   ]
  },
  {
   "cell_type": "code",
   "execution_count": null,
   "metadata": {},
   "outputs": [],
   "source": [
    "# A06 - How Many Guests?\n",
    "\n",
    "N, Q = map(int, input().split())\n",
    "A = list(map(int, input().split()))\n",
    "\n",
    "# 累積和\n",
    "for i in range(N-1):\n",
    "    A[i+1] += A[i]\n",
    "\n",
    "for i in range(Q):\n",
    "    L, R = map(int, input().split())\n",
    "\n",
    "    # 1日目から数える時は注意\n",
    "    if L==1:\n",
    "        print(A[R-1])\n",
    "    else:\n",
    "        print(A[R-1] - A[L-2])"
   ]
  },
  {
   "cell_type": "code",
   "execution_count": null,
   "metadata": {},
   "outputs": [],
   "source": [
    "# A07 - Event Attendance\n",
    "\n",
    "D = int(input())\n",
    "N = int(input())\n",
    "\n",
    "A = [0 for i in range(D)]\n",
    "\n",
    "for _ in range(N):\n",
    "    L, R = map(int, input().split())\n",
    "    A[L-1] += 1\n",
    "    \n",
    "    if R < D:\n",
    "        A[R] -= 1\n",
    "\n",
    "# 累積和\n",
    "for i in range(D-1):\n",
    "    A[i+1] += A[i]\n",
    "\n",
    "for a in A:\n",
    "    print(a)"
   ]
  },
  {
   "cell_type": "code",
   "execution_count": null,
   "metadata": {},
   "outputs": [],
   "source": [
    "# A08 - Two Dimensional Sum\n",
    "\n",
    "import numpy as np\n",
    "\n",
    "H, W = map(int, input().split())\n",
    "\n",
    "X = np.array([list(map(int, input().split())) for _ in range(H)])\n",
    "X = X.cumsum(axis=0).cumsum(axis=1)\n",
    "\n",
    "Q = int(input())\n",
    "\n",
    "for _ in range(Q):\n",
    "    A, B, C, D = map(int, input().split())\n",
    "    answer = X[C-1, D-1]\n",
    "    if A > 1:\n",
    "        answer -= X[A-2, D-1]\n",
    "    if B > 1:\n",
    "        answer -= X[C-1, B-2]\n",
    "    if A > 1 and B > 1:\n",
    "        answer += X[A-2, B-2]\n",
    "    print(answer)"
   ]
  },
  {
   "cell_type": "code",
   "execution_count": null,
   "metadata": {},
   "outputs": [],
   "source": [
    "# A09 - Winter in ALGO Kingdom\n",
    "\n",
    "import numpy as np\n",
    "\n",
    "H, W, N = map(int, input().split())\n",
    "\n",
    "X = np.zeros((H+2, W+2)).astype(int)\n",
    "for _ in range(N):\n",
    "    A, B, C, D = map(int, input().split())\n",
    "    X[A, B] += 1\n",
    "    X[A, D+1] -= 1\n",
    "    X[C+1, B] -= 1\n",
    "    X[C+1, D+1] += 1 \n",
    "X = X.cumsum(axis=0).cumsum(axis=1)\n",
    "\n",
    "for i in range(1, H+1):\n",
    "    print(*list(X[i, 1:-1]))"
   ]
  },
  {
   "cell_type": "code",
   "execution_count": null,
   "metadata": {},
   "outputs": [],
   "source": [
    "# A10 - Resort Hotel\n",
    "\n",
    "import numpy as np\n",
    "\n",
    "N = int(input())\n",
    "A = np.array(list(map(int, input().split())))\n",
    "D = int(input())\n",
    "\n",
    "P = [A[0]]\n",
    "Q = [A[-1]]\n",
    "for i in range(N-1):\n",
    "    P.append(max(P[i], A[i+1]))\n",
    "    Q.append(max(Q[i], A[N-i-2]))\n",
    "Q = Q[::-1]\n",
    "\n",
    "for _ in range(D):\n",
    "    L, R = map(int, input().split())\n",
    "    print(max(P[L-2], Q[R]))"
   ]
  },
  {
   "cell_type": "code",
   "execution_count": null,
   "metadata": {},
   "outputs": [],
   "source": []
  }
 ],
 "metadata": {
  "kernelspec": {
   "display_name": "Python 3",
   "language": "python",
   "name": "python3"
  },
  "language_info": {
   "codemirror_mode": {
    "name": "ipython",
    "version": 3
   },
   "file_extension": ".py",
   "mimetype": "text/x-python",
   "name": "python",
   "nbconvert_exporter": "python",
   "pygments_lexer": "ipython3",
   "version": "3.10.2"
  },
  "orig_nbformat": 4,
  "vscode": {
   "interpreter": {
    "hash": "aee8b7b246df8f9039afb4144a1f6fd8d2ca17a180786b69acc140d282b71a49"
   }
  }
 },
 "nbformat": 4,
 "nbformat_minor": 2
}
