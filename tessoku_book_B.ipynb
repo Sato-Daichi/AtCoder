{
 "cells": [
  {
   "attachments": {},
   "cell_type": "markdown",
   "metadata": {},
   "source": [
    "## __鉄則本 B問題__\n",
    "\n",
    "- リンク：https://atcoder.jp/contests/tessoku-book/tasks\n",
    "\n",
    "- Github：https://github.com/E869120/kyopro-tessoku"
   ]
  },
  {
   "cell_type": "code",
   "execution_count": null,
   "metadata": {},
   "outputs": [],
   "source": [
    "# B01 - A+B Problem\n",
    "\n",
    "A, B = map(int, input().split())\n",
    "print(A + B)"
   ]
  },
  {
   "cell_type": "code",
   "execution_count": null,
   "metadata": {},
   "outputs": [],
   "source": [
    "# B02 - Divisor Check\n",
    "\n",
    "A, B = map(int, input().split())\n",
    "\n",
    "flag = True\n",
    "for i in range(A, B+1):\n",
    "    if i in [1, 2, 4, 5, 10, 20, 25, 50, 100]:\n",
    "        print(\"Yes\")\n",
    "        flag = False\n",
    "        break\n",
    "\n",
    "if flag:\n",
    "    print(\"No\")"
   ]
  },
  {
   "cell_type": "code",
   "execution_count": null,
   "metadata": {},
   "outputs": [],
   "source": [
    "# B03 - Supermarket 1\n",
    "\n",
    "import itertools\n",
    "N = int(input())\n",
    "A = list(map(int, input().split()))\n",
    "\n",
    "flag = True\n",
    "for a1, a2, a3 in itertools.combinations(A, 3):\n",
    "    if a1 +  a2 + a3 == 1000:\n",
    "        print(\"Yes\")\n",
    "        flag = False\n",
    "        break\n",
    "\n",
    "if flag:\n",
    "    print(\"No\")\n"
   ]
  },
  {
   "cell_type": "code",
   "execution_count": null,
   "metadata": {},
   "outputs": [],
   "source": [
    "# B04 - Binary Representation 2\n",
    "\n",
    "print(int(input(), 2))"
   ]
  },
  {
   "cell_type": "code",
   "execution_count": null,
   "metadata": {},
   "outputs": [],
   "source": [
    "# B06 - Lottery\n",
    "\n",
    "N = int(input())\n",
    "A = list(map(int, input().split()))\n",
    "Q = int(input())\n",
    "\n",
    "# 累積和\n",
    "for i in range(N-1):\n",
    "    A[i+1] += A[i]\n",
    "\n",
    "for _ in range(Q):\n",
    "    L, R = map(int, input().split())\n",
    "    win = A[R-1] if L==1 else A[R-1] - A[L-2] # アタリ回数\n",
    "    lose = R - L + 1 - win # ハズレ回数\n",
    "\n",
    "    if win > lose:\n",
    "        print(\"win\")\n",
    "    elif win == lose:\n",
    "        print(\"draw\")\n",
    "    else:\n",
    "        print(\"lose\")"
   ]
  },
  {
   "cell_type": "code",
   "execution_count": null,
   "metadata": {},
   "outputs": [],
   "source": [
    "# B07 - Convenience Store 2\n",
    "\n",
    "T = int(input())\n",
    "N = int(input())\n",
    "\n",
    "A = [0 for i in range(T)]\n",
    "\n",
    "for _ in range(N):\n",
    "    L, R = map(int, input().split())\n",
    "    A[L] += 1\n",
    "    if R < T:\n",
    "        A[R] -= 1\n",
    "\n",
    "# 累積和\n",
    "for i in range(T-1):\n",
    "    A[i+1] += A[i]\n",
    "\n",
    "for a in A:\n",
    "    print(a)"
   ]
  },
  {
   "cell_type": "code",
   "execution_count": null,
   "metadata": {},
   "outputs": [],
   "source": [
    "# B08 - Counting Points\n",
    "\n",
    "import numpy as np\n",
    "\n",
    "N = int(input())\n",
    "\n",
    "XY = np.zeros((1501, 1501)).astype(int)\n",
    "for _ in range(N):\n",
    "    x, y = map(int, input().split())\n",
    "    XY[x, y] += 1\n",
    "XY = XY.cumsum(axis=0).cumsum(axis=1)\n",
    "\n",
    "Q = int(input())\n",
    "\n",
    "for _ in range(Q):\n",
    "    a, b, c, d = map(int, input().split())\n",
    "    print(XY[c, d] - XY[a-1, d] - XY[c, b-1] + XY[a-1, b-1])"
   ]
  },
  {
   "cell_type": "code",
   "execution_count": null,
   "metadata": {},
   "outputs": [],
   "source": [
    "# B09 - Papers\n",
    "\n",
    "import numpy as np\n",
    "\n",
    "N = int(input())\n",
    "\n",
    "X = np.zeros((1502, 1502)).astype(int)\n",
    "\n",
    "# 変更点:面積なのでC+1→C、D+1→D\n",
    "# マス目の数ではなくマス間の距離なので1減らす\n",
    "for _ in range(N):\n",
    "    A, B, C, D = map(int, input().split())\n",
    "    X[A, B] += 1\n",
    "    X[A, D] -= 1\n",
    "    X[C, B] -= 1\n",
    "    X[C, D] += 1\n",
    "X = X.cumsum(axis=0).cumsum(axis=1)\n",
    "\n",
    "print((X > 0).sum())"
   ]
  },
  {
   "cell_type": "code",
   "execution_count": null,
   "metadata": {},
   "outputs": [],
   "source": []
  }
 ],
 "metadata": {
  "kernelspec": {
   "display_name": "Python 3",
   "language": "python",
   "name": "python3"
  },
  "language_info": {
   "codemirror_mode": {
    "name": "ipython",
    "version": 3
   },
   "file_extension": ".py",
   "mimetype": "text/x-python",
   "name": "python",
   "nbconvert_exporter": "python",
   "pygments_lexer": "ipython3",
   "version": "3.10.2"
  },
  "orig_nbformat": 4,
  "vscode": {
   "interpreter": {
    "hash": "aee8b7b246df8f9039afb4144a1f6fd8d2ca17a180786b69acc140d282b71a49"
   }
  }
 },
 "nbformat": 4,
 "nbformat_minor": 2
}
