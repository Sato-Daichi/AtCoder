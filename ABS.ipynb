{
 "cells": [
  {
   "attachments": {},
   "cell_type": "markdown",
   "metadata": {},
   "source": [
    "## __AtCoder Beginners Selection__\n",
    "\n",
    "- リンク：https://atcoder.jp/contests/abs"
   ]
  },
  {
   "cell_type": "code",
   "execution_count": null,
   "metadata": {},
   "outputs": [],
   "source": [
    "# PracticeA - Welcome to AtCoder\n",
    "\n",
    "a = int(input())\n",
    "b, c = map(int, input().split())\n",
    "s = input()\n",
    " \n",
    "print(a+b+c, s)"
   ]
  },
  {
   "cell_type": "code",
   "execution_count": null,
   "metadata": {},
   "outputs": [],
   "source": [
    "# ABC086A - Product\n",
    "\n",
    "a, b = map(int, input().split())\n",
    " \n",
    "if a*b%2==0:\n",
    "  print(\"Even\")\n",
    "else:\n",
    "  print(\"Odd\")"
   ]
  },
  {
   "cell_type": "code",
   "execution_count": null,
   "metadata": {},
   "outputs": [],
   "source": [
    "# ABC081A - Placing Marbles\n",
    "\n",
    "print(sum(map(int, list(input()))))"
   ]
  },
  {
   "cell_type": "code",
   "execution_count": null,
   "metadata": {},
   "outputs": [],
   "source": [
    "# ABC081B - Shift only\n",
    "\n",
    "N = int(input())\n",
    "A = list(map(int, input().split()))\n",
    "\n",
    "counter = -1\n",
    "flag = True\n",
    "while flag:\n",
    "    counter += 1\n",
    "    for i in range(N):\n",
    "        if A[i] % 2 == 1:\n",
    "            flag = False\n",
    "            break\n",
    "        A[i] /= 2\n",
    "            \n",
    "print(counter)"
   ]
  },
  {
   "cell_type": "code",
   "execution_count": null,
   "metadata": {},
   "outputs": [],
   "source": [
    "# ABC087B - Coins\n",
    "\n",
    "A = int(input())\n",
    "B = int(input())\n",
    "C = int(input())\n",
    "X = int(input())\n",
    "\n",
    "counter = 0\n",
    "for a in range(A+1):\n",
    "    for b in range(B+1):\n",
    "        for c in range(C+1):\n",
    "            if 500*a+100*b+50*c == X:\n",
    "                counter += 1\n",
    "\n",
    "print(counter)"
   ]
  },
  {
   "cell_type": "code",
   "execution_count": null,
   "metadata": {},
   "outputs": [],
   "source": [
    "# ABC083B - Some Sums\n",
    "\n",
    "N, A, B = map(int, list(input().split()))\n",
    "\n",
    "s = 0 # sum\n",
    "for i in range(N+1):\n",
    "    if A <= sum(list(map(int, str(i)))) <= B:\n",
    "        s += i\n",
    "print(s)"
   ]
  },
  {
   "cell_type": "code",
   "execution_count": null,
   "metadata": {},
   "outputs": [],
   "source": [
    "# ABC088B - Card Game for Two\n",
    "\n",
    "N = int(input())\n",
    "a = list(map(int, input().split()))\n",
    "\n",
    "a = sorted(a)[::-1] # 降順\n",
    "Alice = sum([a[i] for i in range(0, N, 2)])\n",
    "Bob = sum([a[i] for i in range(1, N, 2)])\n",
    "\n",
    "print(Alice - Bob)"
   ]
  },
  {
   "cell_type": "code",
   "execution_count": null,
   "metadata": {},
   "outputs": [],
   "source": [
    "# ABC085B - Kagami Mochi\n",
    "\n",
    "N = int(input())\n",
    "\n",
    "d = []\n",
    "for _ in range(N):\n",
    "    d.append(int(input()))  \n",
    "print(len(set(d))) # setで重複削除"
   ]
  },
  {
   "cell_type": "code",
   "execution_count": null,
   "metadata": {},
   "outputs": [],
   "source": [
    "# ABC085C - Otoshidama\n",
    "\n",
    "N, Y = map(int, input().split())\n",
    "\n",
    "flag = False\n",
    "for i in range(N+1):\n",
    "    for j in range(N-i+1):\n",
    "        k = N-i-j\n",
    "        if Y == 10000*i+5000*j+1000*k:\n",
    "            flag = True\n",
    "            break\n",
    "    if flag:\n",
    "        break\n",
    "\n",
    "if flag:\n",
    "    print(i, j, k)\n",
    "else:\n",
    "    print(-1, -1, -1)\n",
    "    "
   ]
  },
  {
   "cell_type": "code",
   "execution_count": null,
   "metadata": {},
   "outputs": [],
   "source": [
    "# ABC049C - 白昼夢\n",
    "\n",
    "S = input()\n",
    "\n",
    "T = \"\"\n",
    "if len(S) >= 5:\n",
    "    flag = True\n",
    "else:\n",
    "    print(\"NO\")\n",
    "    flag = False\n",
    "\n",
    "while flag:\n",
    "    if S[-6:] == \"eraser\":\n",
    "        S = S[:-6]\n",
    "    elif S[-7:] == \"dreamer\":\n",
    "        S = S[:-7]\n",
    "    elif S[-5:] == \"dream\":\n",
    "        S = S[:-5]\n",
    "    elif S[-5:] == \"erase\":\n",
    "        S = S[:-5]\n",
    "    else:\n",
    "        flag = False\n",
    "        print(\"NO\")\n",
    "        break\n",
    "\n",
    "    if len(S) == 0:\n",
    "        print(\"YES\")\n",
    "        flag = False"
   ]
  },
  {
   "cell_type": "code",
   "execution_count": null,
   "metadata": {},
   "outputs": [],
   "source": [
    "# ABC086C - Traveling\n",
    "\n",
    "N = int(input())\n",
    "flag = True\n",
    "\n",
    "t, x, y = 0, 0, 0\n",
    "for _ in range(N):\n",
    "    t_, x_, y_ = map(int, input().split())\n",
    "    distance = abs(x_ - x) + abs(y_ - y)\n",
    "    time = t_ - t\n",
    "    if distance > time or time % 2 != distance % 2:\n",
    "        flag = False\n",
    "        break\n",
    "    t, x, y = t_, x_, y_\n",
    "\n",
    "if flag:\n",
    "    print(\"Yes\")\n",
    "else:\n",
    "    print(\"No\")\n",
    "    "
   ]
  },
  {
   "cell_type": "code",
   "execution_count": null,
   "metadata": {},
   "outputs": [],
   "source": []
  }
 ],
 "metadata": {
  "kernelspec": {
   "display_name": "Python 3",
   "language": "python",
   "name": "python3"
  },
  "language_info": {
   "codemirror_mode": {
    "name": "ipython",
    "version": 3
   },
   "file_extension": ".py",
   "mimetype": "text/x-python",
   "name": "python",
   "nbconvert_exporter": "python",
   "pygments_lexer": "ipython3",
   "version": "3.10.2"
  },
  "orig_nbformat": 4,
  "vscode": {
   "interpreter": {
    "hash": "aee8b7b246df8f9039afb4144a1f6fd8d2ca17a180786b69acc140d282b71a49"
   }
  }
 },
 "nbformat": 4,
 "nbformat_minor": 2
}
